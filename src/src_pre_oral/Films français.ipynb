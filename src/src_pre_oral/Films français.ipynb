{
 "cells": [
  {
   "attachments": {},
   "cell_type": "markdown",
   "id": "a03255f5",
   "metadata": {},
   "source": [
    "# 1. Create examples from Allocine dataset (French)"
   ]
  },
  {
   "cell_type": "code",
   "execution_count": 1,
   "id": "acd6ed1a",
   "metadata": {},
   "outputs": [
    {
     "name": "stdout",
     "output_type": "stream",
     "text": [
      "Collecting datasets\n",
      "  Downloading datasets-2.13.0-py3-none-any.whl (485 kB)\n",
      "\u001b[2K     \u001b[90m━━━━━━━━━━━━━━━━━━━━━━━━━━━━━━━━━━━━━━━\u001b[0m \u001b[32m485.6/485.6 kB\u001b[0m \u001b[31m4.0 MB/s\u001b[0m eta \u001b[36m0:00:00\u001b[0m00:01\u001b[0m00:01\u001b[0m\n",
      "\u001b[?25hRequirement already satisfied: numpy>=1.17 in /Library/Frameworks/Python.framework/Versions/3.11/lib/python3.11/site-packages (from datasets) (1.24.2)\n",
      "Collecting pyarrow>=8.0.0 (from datasets)\n",
      "  Downloading pyarrow-12.0.1-cp311-cp311-macosx_11_0_arm64.whl (22.6 MB)\n",
      "\u001b[2K     \u001b[90m━━━━━━━━━━━━━━━━━━━━━━━━━━━━━━━━━━━━━━━━\u001b[0m \u001b[32m22.6/22.6 MB\u001b[0m \u001b[31m6.7 MB/s\u001b[0m eta \u001b[36m0:00:00\u001b[0m00:01\u001b[0m00:01\u001b[0m\n",
      "\u001b[?25hCollecting dill<0.3.7,>=0.3.0 (from datasets)\n",
      "  Downloading dill-0.3.6-py3-none-any.whl (110 kB)\n",
      "\u001b[2K     \u001b[90m━━━━━━━━━━━━━━━━━━━━━━━━━━━━━━━━━━━━━━━\u001b[0m \u001b[32m110.5/110.5 kB\u001b[0m \u001b[31m6.1 MB/s\u001b[0m eta \u001b[36m0:00:00\u001b[0m\n",
      "\u001b[?25hRequirement already satisfied: pandas in /Library/Frameworks/Python.framework/Versions/3.11/lib/python3.11/site-packages (from datasets) (2.0.1)\n",
      "Requirement already satisfied: requests>=2.19.0 in /Library/Frameworks/Python.framework/Versions/3.11/lib/python3.11/site-packages (from datasets) (2.31.0)\n",
      "Requirement already satisfied: tqdm>=4.62.1 in /Library/Frameworks/Python.framework/Versions/3.11/lib/python3.11/site-packages (from datasets) (4.65.0)\n",
      "Collecting xxhash (from datasets)\n",
      "  Downloading xxhash-3.2.0-cp311-cp311-macosx_11_0_arm64.whl (31 kB)\n",
      "Collecting multiprocess (from datasets)\n",
      "  Downloading multiprocess-0.70.14-py310-none-any.whl (134 kB)\n",
      "\u001b[2K     \u001b[90m━━━━━━━━━━━━━━━━━━━━━━━━━━━━━━━━━━━━━━━\u001b[0m \u001b[32m134.3/134.3 kB\u001b[0m \u001b[31m7.3 MB/s\u001b[0m eta \u001b[36m0:00:00\u001b[0m\n",
      "\u001b[?25hCollecting fsspec[http]>=2021.11.1 (from datasets)\n",
      "  Downloading fsspec-2023.6.0-py3-none-any.whl (163 kB)\n",
      "\u001b[2K     \u001b[90m━━━━━━━━━━━━━━━━━━━━━━━━━━━━━━━━━━━━━━━\u001b[0m \u001b[32m163.8/163.8 kB\u001b[0m \u001b[31m4.7 MB/s\u001b[0m eta \u001b[36m0:00:00\u001b[0m\n",
      "\u001b[?25hCollecting aiohttp (from datasets)\n",
      "  Downloading aiohttp-3.8.4-cp311-cp311-macosx_11_0_arm64.whl (332 kB)\n",
      "\u001b[2K     \u001b[90m━━━━━━━━━━━━━━━━━━━━━━━━━━━━━━━━━━━━━━━\u001b[0m \u001b[32m332.9/332.9 kB\u001b[0m \u001b[31m4.7 MB/s\u001b[0m eta \u001b[36m0:00:00\u001b[0ma \u001b[36m0:00:01\u001b[0m\n",
      "\u001b[?25hCollecting huggingface-hub<1.0.0,>=0.11.0 (from datasets)\n",
      "  Downloading huggingface_hub-0.15.1-py3-none-any.whl (236 kB)\n",
      "\u001b[2K     \u001b[90m━━━━━━━━━━━━━━━━━━━━━━━━━━━━━━━━━━━━━━━\u001b[0m \u001b[32m236.8/236.8 kB\u001b[0m \u001b[31m5.7 MB/s\u001b[0m eta \u001b[36m0:00:00\u001b[0ma \u001b[36m0:00:01\u001b[0m\n",
      "\u001b[?25hRequirement already satisfied: packaging in /Users/deeksha/Library/Python/3.11/lib/python/site-packages (from datasets) (23.0)\n",
      "Requirement already satisfied: pyyaml>=5.1 in /Library/Frameworks/Python.framework/Versions/3.11/lib/python3.11/site-packages (from datasets) (6.0)\n",
      "Requirement already satisfied: attrs>=17.3.0 in /Library/Frameworks/Python.framework/Versions/3.11/lib/python3.11/site-packages (from aiohttp->datasets) (23.1.0)\n",
      "Requirement already satisfied: charset-normalizer<4.0,>=2.0 in /Library/Frameworks/Python.framework/Versions/3.11/lib/python3.11/site-packages (from aiohttp->datasets) (3.1.0)\n",
      "Collecting multidict<7.0,>=4.5 (from aiohttp->datasets)\n",
      "  Downloading multidict-6.0.4-cp311-cp311-macosx_11_0_arm64.whl (29 kB)\n",
      "Requirement already satisfied: async-timeout<5.0,>=4.0.0a3 in /Library/Frameworks/Python.framework/Versions/3.11/lib/python3.11/site-packages (from aiohttp->datasets) (4.0.2)\n",
      "Collecting yarl<2.0,>=1.0 (from aiohttp->datasets)\n",
      "  Downloading yarl-1.9.2-cp311-cp311-macosx_11_0_arm64.whl (61 kB)\n",
      "\u001b[2K     \u001b[90m━━━━━━━━━━━━━━━━━━━━━━━━━━━━━━━━━━━━━━━━\u001b[0m \u001b[32m61.3/61.3 kB\u001b[0m \u001b[31m2.5 MB/s\u001b[0m eta \u001b[36m0:00:00\u001b[0m\n",
      "\u001b[?25hCollecting frozenlist>=1.1.1 (from aiohttp->datasets)\n",
      "  Downloading frozenlist-1.3.3-cp311-cp311-macosx_11_0_arm64.whl (34 kB)\n",
      "Collecting aiosignal>=1.1.2 (from aiohttp->datasets)\n",
      "  Downloading aiosignal-1.3.1-py3-none-any.whl (7.6 kB)\n",
      "Requirement already satisfied: filelock in /Library/Frameworks/Python.framework/Versions/3.11/lib/python3.11/site-packages (from huggingface-hub<1.0.0,>=0.11.0->datasets) (3.11.0)\n",
      "Requirement already satisfied: typing-extensions>=3.7.4.3 in /Library/Frameworks/Python.framework/Versions/3.11/lib/python3.11/site-packages (from huggingface-hub<1.0.0,>=0.11.0->datasets) (4.5.0)\n",
      "Requirement already satisfied: idna<4,>=2.5 in /Library/Frameworks/Python.framework/Versions/3.11/lib/python3.11/site-packages (from requests>=2.19.0->datasets) (3.4)\n",
      "Requirement already satisfied: urllib3<3,>=1.21.1 in /Library/Frameworks/Python.framework/Versions/3.11/lib/python3.11/site-packages (from requests>=2.19.0->datasets) (1.26.16)\n",
      "Requirement already satisfied: certifi>=2017.4.17 in /Library/Frameworks/Python.framework/Versions/3.11/lib/python3.11/site-packages (from requests>=2.19.0->datasets) (2022.12.7)\n",
      "Requirement already satisfied: python-dateutil>=2.8.2 in /Users/deeksha/Library/Python/3.11/lib/python/site-packages (from pandas->datasets) (2.8.2)\n",
      "Requirement already satisfied: pytz>=2020.1 in /Library/Frameworks/Python.framework/Versions/3.11/lib/python3.11/site-packages (from pandas->datasets) (2023.3)\n",
      "Requirement already satisfied: tzdata>=2022.1 in /Library/Frameworks/Python.framework/Versions/3.11/lib/python3.11/site-packages (from pandas->datasets) (2023.3)\n",
      "Requirement already satisfied: six>=1.5 in /Users/deeksha/Library/Python/3.11/lib/python/site-packages (from python-dateutil>=2.8.2->pandas->datasets) (1.16.0)\n",
      "Installing collected packages: xxhash, pyarrow, multidict, fsspec, frozenlist, dill, yarl, multiprocess, huggingface-hub, aiosignal, aiohttp, datasets\n",
      "Successfully installed aiohttp-3.8.4 aiosignal-1.3.1 datasets-2.13.0 dill-0.3.6 frozenlist-1.3.3 fsspec-2023.6.0 huggingface-hub-0.15.1 multidict-6.0.4 multiprocess-0.70.14 pyarrow-12.0.1 xxhash-3.2.0 yarl-1.9.2\n",
      "Note: you may need to restart the kernel to use updated packages.\n"
     ]
    }
   ],
   "source": [
    "pip install datasets"
   ]
  },
  {
   "cell_type": "code",
   "execution_count": 2,
   "id": "c62febb0",
   "metadata": {},
   "outputs": [
    {
     "name": "stderr",
     "output_type": "stream",
     "text": [
      "/Library/Frameworks/Python.framework/Versions/3.11/lib/python3.11/site-packages/tqdm/auto.py:21: TqdmWarning: IProgress not found. Please update jupyter and ipywidgets. See https://ipywidgets.readthedocs.io/en/stable/user_install.html\n",
      "  from .autonotebook import tqdm as notebook_tqdm\n",
      "Found cached dataset allocine (/Users/deeksha/.cache/huggingface/datasets/allocine/allocine/1.0.0/ea86b1dc05eae3a45a07b6281f2d4033b5fe7927b1008d06aa457ca1eae660d0)\n",
      "100%|██████████| 3/3 [00:00<00:00, 92.46it/s]\n"
     ]
    }
   ],
   "source": [
    "from datasets import load_dataset\n",
    "\n",
    "dataset = load_dataset(\"allocine\")"
   ]
  },
  {
   "cell_type": "code",
   "execution_count": 3,
   "id": "a91d24e1",
   "metadata": {
    "collapsed": true
   },
   "outputs": [
    {
     "data": {
      "text/plain": [
       "['Si vous cherchez du cinéma abrutissant à tous les étages,n\\'ayant aucune peur du cliché en castagnettes et moralement douteux,\"From Paris with love\" est fait pour vous.Toutes les productions Besson,via sa filière EuropaCorp ont de quoi faire naître la moquerie.Paris y est encore une fois montrée comme une capitale exotique,mais attention si l\\'on se dirige vers la banlieue,on y trouve tout plein d\\'intégristes musulmans prêts à faire sauter le caisson d\\'une ambassadrice américaine.Nauséeux.Alors on se dit qu\\'on va au moins pouvoir apprécier la déconnade d\\'un classique buddy-movie avec le jeune agent aux dents longues obligé de faire équipe avec un vieux lou complètement timbré.Mais d\\'un côté,on a un Jonathan Rhys-meyers fayot au possible,et de l\\'autre un John Travolta en total délire narcissico-badass,crâne rasé et bouc proéminent à l\\'appui.Sinon,il n\\'y a aucun scénario.Seulement,des poursuites débiles sur l\\'autoroute,Travolta qui étale 10 mecs à l\\'arme blanche en 8 mouvements(!!)ou laisse son associé se faire démolir la tronche pendant qu\\'il scrute à la jumelle.Ca pourrait être un plaisir coupable,tellement c\\'est \"hénaurme\",c\\'est juste de la daube dans la droite lignée d\\'un \"Transporteur\",\"Taken\"ou \"Banlieue 13\".',\n",
       " \"Trash, re-trash et re-re-trash...! Une horreur sans nom. Imaginez-vous les 20 premières minutes de Orange Mécanique dilatées sur plus de 70 minutes de bande VHS pourrave et revisitées par Korine à la sauce années 2000 : les dandys-punk de Kubrick ont laissé place à des papys lubriques déguisés en sacs-poubelles forniquant les troncs d'arbres, le dispositif esthétique se résume à du filmage-réalité enfilant des scènes de destruction, de soumission, de pornographie ou encore de maltraitance ( youtube, youtube et re-youtube...) et la bande-son se limite à des ricanements malades, des rengaines obsédantes et limitées, de la logorrhée sans queue ni tête surgissant par bribes poétiques ( hummm....) et des explosions de pétard et de débris. Sur le plan émotionnel c'est une réussite complète puisque Korine parvient - avec une économie de moyens évidente dès les premières secondes - à flanquer un malaise d'une rare intensité en reprenant tout un pan des codes du porno-trash voire du snuff-movie. Mais c'est trop. Beaucoup trop. A tel point que cet objet bizarre à plus d'un niveau dérange ad nauseam et ne séduit jamais, même dans son incontestable maîtrise de la caméra et de son langage. Une sorte de Gummo sans l'inspiration ni l'ampleur. Quelque chose d'affreusement délétère se dégage de cette vidéo hallucinante et hallucinée, mise en images d'une bande d'idiots consanguins perdue dans un pitoyable autodafé white trash. Autant revoir le chef d'oeuvre de Lars Von Trier qui - au moins - avait quelque chose à transmettre... Efficace mais profondément débile et perturbant.\",\n",
       " 'Et si, dans les 5 premières minutes du film, la pathétique maquette de train fendant la neige en gros plan laissait bien augurer du reste ? Si cet artifice trop visible illustrait toute la lourdeur des 100 et quelques minutes de bobine, tous ces atermoiements, tout ce sentimentalisme à deux balles… ? Et une fois ce « train » arrivé en gare, qui peut croire honnêtement au coup de foudre du Comte Vronsky pour Anna ?! Or tout le film est axé sur ce moment… Seule le petit délire suicido-ferroviaire final d’Anna est à la hauteur. P… de train !',\n",
       " 'Mon dieu ! Quelle métaphore filée ! Je suis abasourdi ! Mais réellement, ici on a une métaphore filée de l\\'acceptation que sa mère puisse à nouveau avoir une sexualité avec quelqu\\'un d\\'autre que son papounet chéri ! Freud est aux anges et moi aussi ! Sauf qu\\'en fait c\\'est nul... Ce n\\'est pas un Disney Channel Original Movie très intéressant, faut dire qu\\'il est franchement vieux, il date de l\\'an 2000, d\\'un autre millénaire ! Les gens qui ont fait ce film n\\'ont pas connu le 11 septembre ! Vous vous rendez compte ? Toute cette candeur était encore possible ! époque bénie des dieux ! Outre la blague, on retrouve déjà tous les poncifs du genre, la meilleure amie noire, l\\'ennemie qui devient l\\'amie... la belle soeur qui au début énerve et puis finalement on s\\'y attache... oh que c\\'est mignon... ça me donne la nausée. Bref vous n\\'aurez compris rien que du très classique ici, mais ce qui m\\'énerve c\\'est la tête des actrices, sérieusement, c\\'est physique, rien que voir leur tête me donne des envies de meurtre, que je tente de réprimer bien entendu... mais le pire c\\'est le beau père... une catastrophe... c\\'est \"censé\" être le personnage \"comique\", mais on est au niveau Kev Adams de l\\'humour... Un sketch de Norman c\\'est drôle à côté... Oui, parfaitement, j\\'ose aller jusque là ! Je n\\'ai peur de rien ! Du coup c\\'est plus une curiosité qu\\'autre chose... je crois vraiment que l\\'âge d\\'or du DCOM (vers la fin des années 2000 et début 2010), ce qui les rend si frais et si beaux n\\'oeuvre pas encore ici. C\\'est juste long et chiant. Je note néanmoins quelques tentatives d\\'humour, genre le beau gosse qui dit qu\\'il aime faire de la planche à voile (je traduis) car il y a une planche et de la voile... ce à quoi la fille répond les yeux amoureux \"je n\\'ai jamais vu ça sous cet angle\". J\\'ai souri... (pas au premier degré bien sûr). Bon prochaine étape déterrer un DCOM des années 90, je ne suis pas certain d\\'en avoir déjà vu !',\n",
       " 'Premier film de la saga Kozure Okami, \"Le Sabre de la vengeance\" est un très bon film qui mêle drame et action, et qui, en 40 ans, n\\'a pas pris une ride.',\n",
       " \"L'amnésie est un thème en or pour susciter le mystère. Encore faut-il être capable de construire un scénario qui se tienne. Celui-ci est boursouflé et accumule incohérences et invraisemblances. Notons aussi la stupidité du titre français, sans lien avec l'histoire.\",\n",
       " \"Tout commence comme une comédie légère avant un drame soudain qui fait basculer le film dans un...suspense incroyable mâtiné d'une étude psychologique très fine des mécanismes qui régissent un couple, en particulier, et un groupe social, en général. A propos d'Elly est un film qui bat pavillon iranien -l'analyse des comportements de la nouvelle bourgeoisie du pays est remarquable- mais son propos, la quête de sa propre identité, a une portée universelle, à la manière des oeuvres d'Antonioni. La différence, et elle est de taille, c'est le rythme, rapide et nerveux, que Asghar Farhadi imprime au scénario, à l'opposé de la quasi totalité des films iraniens vus jusqu'alors. Le montage, admirable, arrive à faire oublier qu'il s'agit d'un huis clos (étouffant) où les dialogues (formidables) font avancer l'action. Le tout dans une villa sise au bord d'une mer agitée, personnage central du film, la seule à connaître la réponse à l'énigme. Interprété de façon magistral (mention spéciale aux actrices, sublimes), A propos d'Elly est un conte persan moderne auquel on ne voit qu'un seul défaut : ne durer que 116 minutes.\",\n",
       " \"un excellent film qui merite ses quatre étoiles. tellement bon que les ricains en font dejà une suite, qu'il s'empresseront de pourrir...\",\n",
       " 'Deuxième long métrage de Pasolini, Mamma Roma contient déjà la plupart des obsessions de son auteur et notamment la relation si importante dans la construction de l’être humain entre la mère et son fils adolescent. Anna Magnani est déchirante en figure presque universelle de la maman putain représentative de la Ville éternelle. Le film avance à travers des foules de symboles et la fin où le jeune homme termine sa vie en crucifié martyr de la société est d’un implacable réalisme poétique qui annonce les avancées extrêmes ultérieures de Salo. La construction du récit est d’une puissance hors du commun et Pasolini se montre déjà un grand cinéaste qui a assimilé la technique et les possibilités de ce nouvel outil.',\n",
       " 'Créateur de la célèbre série télévisée Kaamelott (2004/2009), Alexandre Astier s’essaie avec plus ou moins de conviction à son premier long-métrage à travers lequel il dépeint une étrange relation entre un thérapeute et une riche patiente atteinte de troubles de la mémoire. Pour sa première incursion dans le cinéma (derrière la caméra), il a vu les choses en grand, peut-être un peu trop (en plus d’assurer la réalisation, il est aussi scénariste, compositeur et acteur principal !). Résultat, son drame ne parvient pas à insuffler toute la dimension et l’émotion requise qu’il aurait dû nous transmettre. Si l’ambiance particulière qui unie les deux acteurs (Isabelle Adjani & Alexandre Astier) est palpable, on regrettera cependant les nombreuses touches d’humour qui n’avaient pas réellement leur place ici. Signalons tout de même une agréable mise en scène, de beaux plans (pas mal de \"dutch angles\"), une séduisante B.O et des acteurs convaincants, même si l’on aurait aimé que le film puisse nous faire vibrer plus que cela.']"
      ]
     },
     "execution_count": 3,
     "metadata": {},
     "output_type": "execute_result"
    }
   ],
   "source": [
    "dataset['train']['review'][:10]"
   ]
  },
  {
   "cell_type": "code",
   "execution_count": 4,
   "id": "8ae82549",
   "metadata": {
    "scrolled": true
   },
   "outputs": [],
   "source": [
    "labels_train = dataset['train']['label']\n",
    "labels_test = dataset['test']['label']\n",
    "labels_dev = dataset['validation']['label']\n",
    "\n",
    "reviews_train = dataset['train']['review']\n",
    "reviews_test = dataset['test']['review']\n",
    "reviews_dev = dataset['validation']['review']"
   ]
  },
  {
   "cell_type": "code",
   "execution_count": 8,
   "id": "0715e36d",
   "metadata": {},
   "outputs": [],
   "source": [
    "def create_examples_set(rev, lab):\n",
    "    examples = []\n",
    "    for label, review in zip(lab, rev):\n",
    "        dictionary = {label: review}\n",
    "        examples.append(dictionary)\n",
    "    return examples"
   ]
  },
  {
   "cell_type": "code",
   "execution_count": 9,
   "id": "3e1a1e6a",
   "metadata": {},
   "outputs": [],
   "source": [
    "allocine_train = create_examples_set(reviews_train, labels_train)\n",
    "allocine_test = create_examples_set(reviews_test, labels_test)\n",
    "allocine_dev = create_examples_set(reviews_dev, labels_dev)"
   ]
  },
  {
   "attachments": {},
   "cell_type": "markdown",
   "id": "6ac102c5",
   "metadata": {},
   "source": [
    "# 2. Load word embeddings"
   ]
  },
  {
   "cell_type": "code",
   "execution_count": 19,
   "id": "4686c482",
   "metadata": {},
   "outputs": [],
   "source": [
    "from sklearn.linear_model import Perceptron\n",
    "from sklearn.feature_extraction.text import CountVectorizer\n",
    "from sklearn.metrics import accuracy_score\n",
    "import numpy as np\n",
    "import matplotlib.pyplot as plt\n",
    "\n",
    "from sklearn.neural_network import MLPClassifier"
   ]
  },
  {
   "cell_type": "code",
   "execution_count": 20,
   "id": "44fe9f88",
   "metadata": {},
   "outputs": [],
   "source": [
    "def downloaded_vectors(file_vectors):\n",
    "    #load pre-trained word embeddings\n",
    "    word_embeddings = {}\n",
    "    #open file where the embeddings are stored\n",
    "    with open(file_vectors, 'r') as file:\n",
    "        #for every line in the file\n",
    "        for line in file:\n",
    "            #split by whitespace\n",
    "            values = line.split()\n",
    "            #first item in the vector represents a word\n",
    "            word = values[0]\n",
    "            #the remaining of the values represent the numerical representation of the word\n",
    "            #conversion of the vector values from a list to a NumPy array\n",
    "            vector = np.array(values[1:]).astype(np.float64)\n",
    "            #word is added as key and the corresponding numerical representation (vector) to the word_embeddings dictionary\n",
    "            word_embeddings[word] = vector\n",
    "\n",
    "    #print(word_embeddings['cégep'])\n",
    "    return word_embeddings"
   ]
  },
  {
   "cell_type": "code",
   "execution_count": null,
   "id": "82e36993",
   "metadata": {},
   "outputs": [],
   "source": [
    "#load pre-trained word embeddings (vec100)"
   ]
  },
  {
   "cell_type": "code",
   "execution_count": null,
   "id": "8eb96a94",
   "metadata": {},
   "outputs": [],
   "source": [
    "#load pre-trained word embeddings (vec50)"
   ]
  },
  {
   "cell_type": "code",
   "execution_count": null,
   "id": "49065006",
   "metadata": {},
   "outputs": [],
   "source": [
    "#load retrofitted word embeddings (vec100)"
   ]
  },
  {
   "cell_type": "code",
   "execution_count": null,
   "id": "c3cad872",
   "metadata": {},
   "outputs": [],
   "source": [
    "#load retrofitted word embeddings (vec50)"
   ]
  },
  {
   "attachments": {},
   "cell_type": "markdown",
   "id": "5fd78ded",
   "metadata": {},
   "source": [
    "# 3. Creation of vectors for the film reviews"
   ]
  }
 ],
 "metadata": {
  "kernelspec": {
   "display_name": "Python 3 (ipykernel)",
   "language": "python",
   "name": "python3"
  },
  "language_info": {
   "codemirror_mode": {
    "name": "ipython",
    "version": 3
   },
   "file_extension": ".py",
   "mimetype": "text/x-python",
   "name": "python",
   "nbconvert_exporter": "python",
   "pygments_lexer": "ipython3",
   "version": "3.11.3"
  }
 },
 "nbformat": 4,
 "nbformat_minor": 5
}
